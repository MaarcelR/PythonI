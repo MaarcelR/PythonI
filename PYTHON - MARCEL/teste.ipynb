{
 "cells": [
  {
   "cell_type": "code",
   "execution_count": 15,
   "metadata": {},
   "outputs": [
    {
     "name": "stdout",
     "output_type": "stream",
     "text": [
      "Produto           \tQuantidade vendida\tPreço unitário    \t<Cell 'PRODUTOS'.C1>\n",
      "Camiseta          \t100               \t25.5              \t<Cell 'PRODUTOS'.C2>\n",
      "Calça             \t250               \t80                \t<Cell 'PRODUTOS'.C3>\n",
      "Camiseta          \t58                \t25.5              \t<Cell 'PRODUTOS'.C4>\n",
      "Calça             \t34                \t80                \t<Cell 'PRODUTOS'.C5>\n",
      "Boné              \t45                \t15                \t<Cell 'PRODUTOS'.C6>\n",
      "Camiseta          \t367               \t25.5              \t<Cell 'PRODUTOS'.C7>\n",
      "Calça             \t69                \t80                \t<Cell 'PRODUTOS'.C8>\n",
      "Tênis             \t76                \t120               \t<Cell 'PRODUTOS'.C9>\n",
      "Calça             \t244               \t80                \t<Cell 'PRODUTOS'.C10>\n",
      "vestido           \t10                \t50                \t<Cell 'PRODUTOS'.C11>\n",
      "camisa            \t20                \t30                \t<Cell 'PRODUTOS'.C12>\n"
     ]
    }
   ],
   "source": [
    "from openpyxl import load_workbook\n",
    "arquivo='planilha.xlsx'\n",
    "workbook=load_workbook(arquivo)\n",
    "planilha=workbook.active\n",
    "\n",
    "for linha in planilha.iter_rows():\n",
    "    for celula in linha:\n",
    "        print(str(celula.value).ljust(18), end='\\t')\n",
    "    print(celula)"
   ]
  },
  {
   "cell_type": "code",
   "execution_count": null,
   "metadata": {},
   "outputs": [],
   "source": []
  }
 ],
 "metadata": {
  "kernelspec": {
   "display_name": "Python 3",
   "language": "python",
   "name": "python3"
  },
  "language_info": {
   "codemirror_mode": {
    "name": "ipython",
    "version": 3
   },
   "file_extension": ".py",
   "mimetype": "text/x-python",
   "name": "python",
   "nbconvert_exporter": "python",
   "pygments_lexer": "ipython3",
   "version": "3.11.4"
  }
 },
 "nbformat": 4,
 "nbformat_minor": 2
}
